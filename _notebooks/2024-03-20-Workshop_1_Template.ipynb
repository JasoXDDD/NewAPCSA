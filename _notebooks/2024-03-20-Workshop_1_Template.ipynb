{
 "cells": [
  {
   "cell_type": "markdown",
   "metadata": {},
   "source": [
    "---\n",
    "title: Workshop 1 Hacks TEMPLATE\n",
    "description: Methods & Control Structures Workshop Hacks\n",
    "toc: true\n",
    "layout: post\n",
    "courses: { csa: {week: '26'} }\n",
    "type: hacks\n",
    "comments: true\n",
    "---"
   ]
  },
  {
   "cell_type": "markdown",
   "metadata": {},
   "source": [
    "## Question 2: Iteration over 2D arrays (Unit 4)\n",
    "\n",
    "Situation: You are developing a game where you need to track player scores on a 2D grid representing levels and attempts."
   ]
  },
  {
   "cell_type": "markdown",
   "metadata": {},
   "source": [
    "(a) Explain the concept of iteration over a 2D array in Java. Provide an example scenario where iterating over a 2D array is useful in a programming task.\n",
    "\n",
    "You iterate over all the 1D arrays that make up the 2D array, then for each array, iterate over all the element. ITerating over all the elements in a 2D array is useful if you want to update a map that is represented by a 2D array, so you iterate over everything to create what what would happen in the next time.\n"
   ]
  },
  {
   "cell_type": "markdown",
   "metadata": {},
   "source": [
    "(b) You need to implement a method `calculateTotalScore` that takes a 2D array `scores` of integers representing player scores and returns the sum of all the elements in the array. Write the method signature and the method implementation. Include comments to explain your code."
   ]
  },
  {
   "cell_type": "code",
   "execution_count": 1,
   "metadata": {},
   "outputs": [
    {
     "data": {
      "text/plain": [
       "45"
      ]
     },
     "execution_count": 1,
     "metadata": {},
     "output_type": "execute_result"
    }
   ],
   "source": [
    "// code\n",
    "// function for calculating total\n",
    "public static int calculateTotalScore(int[][] scores) {\n",
    "    int sum = 0;// sum of array\n",
    "\n",
    "    // Loop through each element of the array\n",
    "    for (int i=0; i<scores.length; i++) {\n",
    "        for (int j=0; j<scores[i].length; j++) {\n",
    "            sum += scores[i][j];// Add the element to the sum\n",
    "        }\n",
    "    }\n",
    "\n",
    "    // After iterating through 2d array return the sum\n",
    "    return sum;\n",
    "}\n",
    "\n",
    "// Make a test array to show the code works, expected output is 31\n",
    "public int[][] testScores = {\n",
    "    {1, 2, 3},\n",
    "    {4, 5, 6},\n",
    "    {7, 8, 9}\n",
    "};\n",
    "\n",
    "calculateTotalScore(testScores);"
   ]
  },
  {
   "cell_type": "markdown",
   "metadata": {},
   "source": [
    "## Question 3: ArrayList (Unit 6)\n",
    "\n",
    "Situation: You are developing a student management system where you need to store and analyze the grades of students in a class."
   ]
  },
  {
   "cell_type": "markdown",
   "metadata": {},
   "source": [
    "(a) Define an arrayList in Java. Explain its significance and usefulness in programming.\n",
    "\n",
    "Arraylists are similiar to arrays in how they are able to store values of the same type, however, it differs in that it's mutable, meaning that its size can be changed, which is useful for when you don't know how much elements you are going to store.\n"
   ]
  },
  {
   "cell_type": "markdown",
   "metadata": {},
   "source": [
    "(b) You need to implement a method `calculateAverageGrade` that takes an array `grades` of integers representing student grades and returns the average of all the elements in the array. Write the method signature and the method implementation. Include comments to explain your code."
   ]
  },
  {
   "cell_type": "code",
   "execution_count": 2,
   "metadata": {},
   "outputs": [
    {
     "data": {
      "text/plain": [
       "57.8"
      ]
     },
     "execution_count": 2,
     "metadata": {},
     "output_type": "execute_result"
    }
   ],
   "source": [
    "// code\n",
    "public static double calculateAverageGrade(int[] grades) {\n",
    "    int sum = 0; // sum of all values\n",
    "\n",
    "    // Iterate through the array to calculate sum\n",
    "    for (int i = 0; i < grades.length; i ++) {\n",
    "        sum += grades[i];\n",
    "    }\n",
    "\n",
    "\n",
    "    return (double) sum/grades.length;//returns the average\n",
    "}\n",
    "\n",
    "// test\n",
    "int[] grades = {30, 44, 99, 79, 37};\n",
    "\n",
    "calculateAverageGrade(grades);"
   ]
  }
 ],
 "metadata": {
  "kernelspec": {
   "display_name": "Java",
   "language": "java",
   "name": "java"
  },
  "language_info": {
   "codemirror_mode": "java",
   "file_extension": ".jshell",
   "mimetype": "text/x-java-source",
   "name": "java",
   "pygments_lexer": "java",
   "version": "11.0.20+8-post-Ubuntu-1ubuntu120.04"
  }
 },
 "nbformat": 4,
 "nbformat_minor": 2
}

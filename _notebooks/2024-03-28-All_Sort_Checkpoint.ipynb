{
 "cells": [
  {
   "cell_type": "markdown",
   "metadata": {},
   "source": [
    "---\n",
    "title: All Sorts Checkpoint\n",
    "description: all of the sorts\n",
    "---"
   ]
  },
  {
   "cell_type": "code",
   "execution_count": 3,
   "metadata": {
    "vscode": {
     "languageId": "java"
    }
   },
   "outputs": [],
   "source": [
    "public class Sort {\n",
    "    private String name;\n",
    "\n",
    "    public Sort() {\n",
    "        this.name = \"None\";\n",
    "    }\n",
    "\n",
    "    public String getName() {\n",
    "        return this.name;\n",
    "    }\n",
    "\n",
    "    public int[] sort(int[] arr) {\n",
    "        // to be overridden by the other methods\n",
    "        return arr;\n",
    "    }\n",
    "    \n",
    "    public static String printArray(int[] arr) {\n",
    "        int n = arr.length;\n",
    "        String output = \"[\";\n",
    "        for (int i = 0; i < n; i++) {\n",
    "            output += arr[i];\n",
    "            if (i == n - 1) {\n",
    "                output += \"]\";\n",
    "            } else {\n",
    "                output += \", \";\n",
    "            }\n",
    "        }\n",
    "        return output;\n",
    "    }\n",
    "}"
   ]
  },
  {
   "cell_type": "markdown",
   "metadata": {},
   "source": [
    "### Bubble Sort\n",
    "\n",
    "Bubble sort is a type of sort that swaps adjacent larger values (at the lower index) with smaller values (at the higher index) until the array has been fully sorted."
   ]
  },
  {
   "cell_type": "code",
   "execution_count": 7,
   "metadata": {
    "vscode": {
     "languageId": "java"
    }
   },
   "outputs": [
    {
     "name": "stdout",
     "output_type": "stream",
     "text": [
      "[22, 23, 29, 34, 53, 54, 59, 76]\n"
     ]
    }
   ],
   "source": [
    "public class BubbleSort extends Sort {\n",
    "    private String name;\n",
    "\n",
    "    // constructor with name\n",
    "    public BubbleSort() {\n",
    "        this.name = \"Bubble Sort\";\n",
    "    }\n",
    "    \n",
    "    public String getName() {\n",
    "        return this.name;\n",
    "    }\n",
    "\n",
    "    // method for just a sort\n",
    "    public int[] sort(int[] arr) {\n",
    "        int n = arr.length;\n",
    "        boolean swapped;\n",
    "        for (int i = 0; i < n-1; i++) {\n",
    "            swapped = false;\n",
    "            for (int j = 0; j < n-i-1; j++) {\n",
    "                if (arr[j] > arr[j+1]) {\n",
    "                    // swap arr[j+1] and arr[j], knowing that arr[j] is greater\n",
    "                    swapped = true;\n",
    "                    int temp = arr[j];\n",
    "                    arr[j] = arr[j+1];\n",
    "                    arr[j+1] = temp;\n",
    "                }\n",
    "            }\n",
    "            if (!swapped) {\n",
    "                break;\n",
    "            }\n",
    "        }\n",
    "        return arr;\n",
    "    }\n",
    "\n",
    "    public static void main(String[] args) {\n",
    "        int[] testArray = {54, 23, 53, 76, 34, 22, 59, 29};\n",
    "        BubbleSort bubbleSort = new BubbleSort();\n",
    "        bubbleSort.sort(testArray);\n",
    "        System.out.println(bubbleSort.printArray(testArray));\n",
    "    }\n",
    "}\n",
    "\n",
    "BubbleSort.main(null);"
   ]
  },
  {
   "cell_type": "markdown",
   "metadata": {},
   "source": [
    "### Selection Sort\n",
    "\n",
    "Here's our sort: selection sort! It works by determining the minimum element in the unsorted portion of the array, swapping it to the earliest index of the unsorted section, and moving from there, with earliest section being the \"sorted\" section."
   ]
  },
  {
   "cell_type": "code",
   "execution_count": 9,
   "metadata": {
    "vscode": {
     "languageId": "java"
    }
   },
   "outputs": [
    {
     "name": "stdout",
     "output_type": "stream",
     "text": [
      "[22, 23, 29, 34, 53, 54, 59, 76]\n"
     ]
    }
   ],
   "source": [
    "public class SelectionSort extends Sort {\n",
    "    private String name;\n",
    "\n",
    "    // constructor with name\n",
    "    public SelectionSort() {\n",
    "        this.name = \"Selection Sort\";\n",
    "    }\n",
    "\n",
    "    public String getName() {\n",
    "        return this.name;\n",
    "    }\n",
    "\n",
    "    public int[] sort(int[] arr) {\n",
    "        int n = arr.length;\n",
    "        for (int i = 0; i < n - 1; i++) {\n",
    "            int minimumIndex = i;\n",
    "            for (int j = i + 1; j < n; j++) {\n",
    "                if (arr[j] < arr[minimumIndex]) {\n",
    "                    minimumIndex = j;\n",
    "                }\n",
    "            }\n",
    "            // swap the found minimum element with the earliest unsorted element\n",
    "            int temp = arr[minimumIndex];\n",
    "            arr[minimumIndex] = arr[i];\n",
    "            arr[i] = temp;\n",
    "        }\n",
    "        return arr;\n",
    "    }\n",
    "\n",
    "    public static void main(String[] args) {\n",
    "        int[] testArray = {54, 23, 53, 76, 34, 22, 59, 29};\n",
    "        SelectionSort selectionSort = new SelectionSort();\n",
    "        selectionSort.sort(testArray);\n",
    "        System.out.println(selectionSort.printArray(testArray));\n",
    "    }\n",
    "}\n",
    "\n",
    "SelectionSort.main(null);"
   ]
  },
  {
   "cell_type": "markdown",
   "metadata": {},
   "source": [
    "### Insertion Sort\n",
    "\n",
    "This is a type of sort that works similar to selection in that values are analyzed for their specific position relative to those around them before being moved to a particular location, but instead of swapping to the front, values are compared to those at previous indexes and placed accordingly."
   ]
  },
  {
   "cell_type": "code",
   "execution_count": 10,
   "metadata": {
    "vscode": {
     "languageId": "java"
    }
   },
   "outputs": [
    {
     "name": "stdout",
     "output_type": "stream",
     "text": [
      "[22, 23, 29, 34, 53, 54, 59, 76]\n"
     ]
    }
   ],
   "source": [
    "public class InsertionSort extends Sort {\n",
    "    private String name;\n",
    "\n",
    "    // constructor with name\n",
    "    public InsertionSort() {\n",
    "        this.name = \"Insertion Sort\";\n",
    "    }\n",
    "\n",
    "    public String getName() {\n",
    "        return this.name;\n",
    "    }\n",
    "\n",
    "    public int[] sort(int[] arr) {\n",
    "        int n = arr.length;\n",
    "        for (int i = 1; i < n; ++i) {\n",
    "            int key = arr[i];\n",
    "            int j = i - 1;\n",
    "            while (j >= 0 && arr[j] > key) {\n",
    "                arr[j + 1] = arr[j];\n",
    "                j = j - 1;\n",
    "            }\n",
    "            arr[j + 1] = key;\n",
    "        }\n",
    "        return arr;\n",
    "    }\n",
    "\n",
    "    public static void main(String[] args) {\n",
    "        int[] testArray = {54, 23, 53, 76, 34, 22, 59, 29};\n",
    "        InsertionSort insertionSort = new InsertionSort();\n",
    "        insertionSort.sort(testArray);\n",
    "        System.out.println(insertionSort.printArray(testArray));\n",
    "    }\n",
    "}\n",
    "\n",
    "InsertionSort.main(null);"
   ]
  },
  {
   "cell_type": "markdown",
   "metadata": {},
   "source": [
    "### Merge Sort\n",
    "\n",
    "This is the most complex type of sort compared to the others code-wise, but it basically divides an array in 2 until it cannot be divided further, then combines them in order. "
   ]
  },
  {
   "cell_type": "code",
   "execution_count": 11,
   "metadata": {
    "vscode": {
     "languageId": "java"
    }
   },
   "outputs": [
    {
     "name": "stdout",
     "output_type": "stream",
     "text": [
      "[22, 23, 29, 34, 53, 54, 59, 76]\n"
     ]
    }
   ],
   "source": [
    "public class MergeSort extends Sort {\n",
    "    private String name;\n",
    "\n",
    "    // constructor with name\n",
    "    public MergeSort() {\n",
    "        this.name = \"Merge Sort\";\n",
    "    }\n",
    "\n",
    "    public String getName() {\n",
    "        return this.name;\n",
    "    }\n",
    "\n",
    "    public int[] sort(int[] arr) {\n",
    "        mergeSort(arr, 0, arr.length - 1, false);\n",
    "        return arr;\n",
    "    }\n",
    "    \n",
    "    private void mergeSort(int[] arr, int l, int r, boolean showSteps) {\n",
    "        if (l < r) {\n",
    "            // finding the middle point\n",
    "            int m = (l + r) / 2;\n",
    "    \n",
    "            // sorting first and second halves (recursive, goes until finished)\n",
    "            mergeSort(arr, l, m, showSteps);\n",
    "            mergeSort(arr, m + 1, r, showSteps);\n",
    "    \n",
    "            // merging the sorted halves\n",
    "            merge(arr, l, m, r, showSteps);\n",
    "        }\n",
    "    }\n",
    "    \n",
    "    private void merge(int[] arr, int l, int m, int r, boolean showSteps) {\n",
    "        int n1 = m - l + 1;\n",
    "        int n2 = r - m;\n",
    "    \n",
    "        int[] L = new int[n1];\n",
    "        int[] R = new int[n2];\n",
    "    \n",
    "        // copying data to temp arrays\n",
    "        for (int i = 0; i < n1; ++i)\n",
    "            L[i] = arr[l + i];\n",
    "        for (int j = 0; j < n2; ++j)\n",
    "            R[j] = arr[m + 1 + j];\n",
    "    \n",
    "        // merging the temp arrays\n",
    "        int i = 0, j = 0;\n",
    "    \n",
    "        // initial index of merged subarray\n",
    "        int k = l;\n",
    "        while (i < n1 && j < n2) {\n",
    "            if (L[i] <= R[j]) {\n",
    "                arr[k] = L[i];\n",
    "                i++;\n",
    "            } else {\n",
    "                arr[k] = R[j];\n",
    "                j++;\n",
    "            }\n",
    "            k++;\n",
    "        }\n",
    "    \n",
    "        // copying remaining elements of L[] if any\n",
    "        while (i < n1) {\n",
    "            arr[k] = L[i];\n",
    "            i++;\n",
    "            k++;\n",
    "        }\n",
    "    \n",
    "        // copying remaining elements of R[] if any\n",
    "        while (j < n2) {\n",
    "            arr[k] = R[j];\n",
    "            j++;\n",
    "            k++;\n",
    "        }\n",
    "        \n",
    "        // for detailed method\n",
    "        if (showSteps) {\n",
    "            System.out.print(\"Merged array: [\");\n",
    "            for (int o = l; o <= r; o++) {\n",
    "                System.out.print(arr[o]);\n",
    "                if (o == r) {\n",
    "                    System.out.println(\"]\");\n",
    "                } else {\n",
    "                    System.out.print(\", \");\n",
    "                }\n",
    "            }\n",
    "        }\n",
    "    }\n",
    "\n",
    "    public static void main(String[] args) {\n",
    "        int[] testArray = {54, 23, 53, 76, 34, 22, 59, 29};\n",
    "        MergeSort mergeSort = new MergeSort();\n",
    "        mergeSort.sort(testArray);\n",
    "        System.out.println(mergeSort.printArray(testArray));\n",
    "    }\n",
    "}\n",
    "\n",
    "MergeSort.main(null);"
   ]
  },
  {
   "cell_type": "markdown",
   "metadata": {},
   "source": [
    "### Quick Sort\n",
    "\n",
    "Quicksort divides an array into parts then move them areound a pivot."
   ]
  },
  {
   "cell_type": "code",
   "execution_count": 12,
   "metadata": {
    "vscode": {
     "languageId": "java"
    }
   },
   "outputs": [
    {
     "name": "stdout",
     "output_type": "stream",
     "text": [
      "[22, 23, 29, 34, 53, 54, 59, 76]\n"
     ]
    }
   ],
   "source": [
    "public class QuickSort extends Sort {\n",
    "    private String name;\n",
    "\n",
    "    // constructor with name\n",
    "    public QuickSort() {\n",
    "        this.name = \"Quick Sort\";\n",
    "    }\n",
    "\n",
    "    public String getName() {\n",
    "        return this.name;\n",
    "    }\n",
    "\n",
    "    public int[] sort(int[] arr) {\n",
    "        quickSort(arr, 0, arr.length - 1, false);\n",
    "        return arr;\n",
    "    }\n",
    "\n",
    "    private void quickSort(int[] arr, int low, int high, boolean showSteps) {\n",
    "        if (low < high) {\n",
    "            // pi is partitioning index, arr[pi] is at right place\n",
    "            int pi = partition(arr, low, high, showSteps);\n",
    "\n",
    "            // recursively sorting elements partition and after partition\n",
    "            quickSort(arr, low, pi - 1, showSteps);\n",
    "            quickSort(arr, pi + 1, high, showSteps);\n",
    "        }\n",
    "    }\n",
    "\n",
    "    private int partition(int[] arr, int low, int high, boolean showSteps) {\n",
    "        int pivot = arr[high];\n",
    "        int i = (low - 1); // index of smaller element\n",
    "        for (int j = low; j < high; j++) {\n",
    "            // if the current element is smaller than the pivot\n",
    "            if (arr[j] < pivot) {\n",
    "                i++;\n",
    "\n",
    "                // swapping arr[i] and arr[j]\n",
    "                int temp = arr[i];\n",
    "                arr[i] = arr[j];\n",
    "                arr[j] = temp;\n",
    "\n",
    "                if (showSteps && arr[i] != arr[j]) {\n",
    "                    System.out.println(\"SWAP - Pivot: \" + pivot + \", arr[i]: \" + arr[i] + \", arr[j]: \" + arr[j] + \", Array: \" + Sort.printArray(arr));\n",
    "                }\n",
    "            }\n",
    "        }\n",
    "\n",
    "        // swapping arr[i+1] and arr[high] (or pivot)\n",
    "        int temp = arr[i + 1];\n",
    "        arr[i + 1] = arr[high];\n",
    "        arr[high] = temp;\n",
    "        if (showSteps && arr[i + 1] != arr[high]) {\n",
    "            System.out.println(\"SWAP - Pivot: \" + pivot + \", arr[i + 1]: \" + arr[i + 1] + \", arr[high]: \" + arr[high] + \", Array: \" + Sort.printArray(arr));\n",
    "        }\n",
    "\n",
    "        return i + 1;\n",
    "    }\n",
    "\n",
    "    public static void main(String[] args) {\n",
    "        int[] testArray = {54, 23, 53, 76, 34, 22, 59, 29};\n",
    "        QuickSort quickSort = new QuickSort();\n",
    "        quickSort.sort(testArray);\n",
    "        System.out.println(quickSort.printArray(testArray));\n",
    "    }\n",
    "}\n",
    "\n",
    "QuickSort.main(null);"
   ]
  }
 ],
 "metadata": {
  "kernelspec": {
   "display_name": "Java",
   "language": "java",
   "name": "java"
  },
  "language_info": {
   "codemirror_mode": "java",
   "file_extension": ".jshell",
   "mimetype": "text/x-java-source",
   "name": "Java",
   "pygments_lexer": "java",
   "version": "11.0.20+8-post-Ubuntu-1ubuntu120.04"
  },
  "orig_nbformat": 4
 },
 "nbformat": 4,
 "nbformat_minor": 2
}

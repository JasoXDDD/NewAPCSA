{
 "cells": [
  {
   "cell_type": "markdown",
   "metadata": {},
   "source": [
    "---\n",
    "title: Custom LinkedList and In-Depth Selection Sort Implementation\n",
    "description: linkedlist and comparable implementation\n",
    "---"
   ]
  },
  {
   "cell_type": "code",
   "execution_count": 2,
   "metadata": {
    "vscode": {
     "languageId": "java"
    }
   },
   "outputs": [
    {
     "name": "stdout",
     "output_type": "stream",
     "text": [
      "Original list: [3, 5, 1, 2]\n",
      "Sorted list: [1, 2, 3, 5]\n"
     ]
    }
   ],
   "source": [
    "public class LinkedList<T extends Comparable<T>> {\n",
    "    private static class Node<T> {\n",
    "        T data;\n",
    "        Node<T> next;\n",
    "\n",
    "        Node(T data) {\n",
    "            this.data = data;\n",
    "            this.next = null;\n",
    "        }\n",
    "    }\n",
    "\n",
    "    private Node<T> head; \n",
    "    private int size; \n",
    "\n",
    "    public LinkedList() {\n",
    "        head = null;\n",
    "        size = 0;\n",
    "    }\n",
    "\n",
    "    // like .add() for ArrayList\n",
    "    public void add(T element) {\n",
    "        if (head == null) {\n",
    "            head = new Node<>(element); // this creates the first node if the list is empty\n",
    "        } else {\n",
    "            Node<T> current = head;\n",
    "            while (current.next != null) {\n",
    "                current = current.next; // using a while loop to approach the last node\n",
    "            }\n",
    "            current.next = new Node<>(element); // adding the new node at the end\n",
    "        }\n",
    "        size++; // increasing size of the list\n",
    "    }\n",
    "\n",
    "    public void selectionSort() {\n",
    "        if (head == null || head.next == null) {\n",
    "            return; // if there's only 1 or 2 variables, the list's sorted\n",
    "        }\n",
    "        Node<T> current = head;\n",
    "        while (current != null) {\n",
    "            Node<T> min = current;\n",
    "            Node<T> temp = current.next;\n",
    "            while (temp != null) {\n",
    "                if (temp.data.compareTo(min.data) < 0) {\n",
    "                    min = temp; // finding the minimum element\n",
    "                }\n",
    "                temp = temp.next;\n",
    "            }\n",
    "            T tmpData = current.data; // swapping the current unsorted place with the minimum\n",
    "            current.data = min.data;\n",
    "            min.data = tmpData;\n",
    "            current = current.next; // moving to the next element\n",
    "        }\n",
    "    }\n",
    "\n",
    "    @Override\n",
    "    public String toString() {\n",
    "        String string = \"[\"; // starting the list format\n",
    "        Node<T> current = head; // start with head\n",
    "        while (current != null) {\n",
    "            string += current.data; // appending the current data to the string\n",
    "            if (current.next != null) {\n",
    "                string += \", \"; // good punctuation = professionalism\n",
    "            }\n",
    "            current = current.next; // moving on\n",
    "        }\n",
    "        string += \"]\"; // capping off the list format\n",
    "        return string;\n",
    "    }\n",
    "\n",
    "    // main method\n",
    "    public static void main(String[] args) {\n",
    "        LinkedList<Integer> list = new LinkedList<>();\n",
    "        list.add(3);\n",
    "        list.add(5);\n",
    "        list.add(1);\n",
    "        list.add(2);\n",
    "        System.out.println(\"Original list: \" + list);\n",
    "        list.selectionSort();\n",
    "        System.out.println(\"Sorted list: \" + list);\n",
    "    }\n",
    "}\n",
    "\n",
    "LinkedList.main(null);"
   ]
  },
  {
   "cell_type": "markdown",
   "metadata": {},
   "source": [
    "## Custom Comparable\n",
    "\n",
    "I sorted classrooms based on students"
   ]
  },
  {
   "cell_type": "code",
   "execution_count": 3,
   "metadata": {
    "vscode": {
     "languageId": "java"
    }
   },
   "outputs": [],
   "source": [
    "// defining the Collectable interface\n",
    "interface Collectable<T> extends Comparable<T> {\n",
    "    // implementing compareTo method to define natural ordering\n",
    "    @Override\n",
    "    int compareTo(T other);\n",
    "\n",
    "    String toString(); // needed for LL printing\n",
    "}\n",
    "\n",
    "// defining the Pokemon class implementing Collectable interface\n",
    "class Class implements Collectable<Class> {\n",
    "    private String name;\n",
    "    private int numStu;\n",
    "\n",
    "    // basic constructor\n",
    "    public Class(String name, int numStu) {\n",
    "        this.name = name;\n",
    "        this.numStu = numStu;\n",
    "    }\n",
    "\n",
    "    // getters methods\n",
    "    public String getName() {return name;}\n",
    "    public int getNumStu() {return numStu;}\n",
    "\n",
    "    @Override\n",
    "    public int compareTo(Class other) {\n",
    "        return Integer.compare(this.numStu, other.numStu);\n",
    "    }\n",
    "\n",
    "    // overriding toString method for better representation of the Pokemon\n",
    "    @Override\n",
    "    public String toString() {\n",
    "        return name + \" has \" + numStu + \" students\";\n",
    "    }\n",
    "}"
   ]
  },
  {
   "cell_type": "markdown",
   "metadata": {},
   "source": [
    "### Using Custom Comparable With Custom LinkedList\n",
    "\n",
    "See the commented code cell below:"
   ]
  },
  {
   "cell_type": "code",
   "execution_count": 4,
   "metadata": {
    "vscode": {
     "languageId": "java"
    }
   },
   "outputs": [
    {
     "name": "stdout",
     "output_type": "stream",
     "text": [
      "Original list:\n",
      "\t[CSP p2 has 25 students, CSP p4 has 23 students, CSA p1 has 30 students, CSA p1 has 29 students]\n",
      "Sorted list by number of students:\n",
      "\t[CSP p4 has 23 students, CSP p2 has 25 students, CSA p1 has 29 students, CSA p1 has 30 students]\n"
     ]
    }
   ],
   "source": [
    "public class Main {\n",
    "    public static void main(String[] args) {\n",
    "        // creating the linkedlist of pokemon\n",
    "        LinkedList<Class> classList = new LinkedList<>();\n",
    "\n",
    "        // adding some well-known Pokemon to the list\n",
    "        classList.add(new Class(\"CSP p2\", 25));\n",
    "        classList.add(new Class(\"CSP p4\", 23));\n",
    "        classList.add(new Class(\"CSA p1\", 30));\n",
    "        classList.add(new Class(\"CSA p1\", 29));\n",
    "\n",
    "        // I shortened the pokemon toString() for this reason\n",
    "        System.out.println(\"Original list:\\n\\t\" + classList);\n",
    "\n",
    "        // sorting the list based on Pokedex numbers, using SELECTION SORT!!!\n",
    "        classList.selectionSort();\n",
    "\n",
    "        // displaying the sorted list (SELECTION SORT!!!)\n",
    "        System.out.println(\"Sorted list by number of students:\\n\\t\" + classList);\n",
    "    }\n",
    "}\n",
    "\n",
    "Main.main(null);"
   ]
  },
  {
   "cell_type": "markdown",
   "metadata": {},
   "source": [
    "## Reflection on Algorhythmic\n",
    "\n",
    "I thought the merge sort one had the best acting, but it's true that they could have explained the merging part a bit better.\n",
    "\n",
    "I think we did pretty good, but I thought that the murder part dragged on for just a bit too long, also there's the numbers not being available thing, but we played our parts pretty well. I thought that maybe I should have said my line (\"Not again!\") when I died for real, but that thought came after, so no improv here.\n",
    "\n",
    "The team that won did pretty good, but then they had a pretty easy sort (ours were easier though) so it was easy for them to convey, which I think the judges valued.\n",
    "\n",
    "Anyways it was pretty fun. I was mostly just a random character, but I thought my line was pretty funny."
   ]
  }
 ],
 "metadata": {
  "kernelspec": {
   "display_name": "Java",
   "language": "java",
   "name": "java"
  },
  "language_info": {
   "codemirror_mode": "java",
   "file_extension": ".jshell",
   "mimetype": "text/x-java-source",
   "name": "Java",
   "pygments_lexer": "java",
   "version": "11.0.20+8-post-Ubuntu-1ubuntu120.04"
  },
  "orig_nbformat": 4
 },
 "nbformat": 4,
 "nbformat_minor": 2
}
